{
 "cells": [
  {
   "cell_type": "code",
   "execution_count": 1,
   "metadata": {
    "collapsed": false
   },
   "outputs": [
    {
     "name": "stdout",
     "output_type": "stream",
     "text": [
      "1.70796203613\n",
      "9.46735286713\n",
      "0.222633838654\n",
      "0.285443067551\n",
      "0.420050144196\n",
      "9.36676192284\n",
      "0.267348051071\n",
      "0.36127614975\n",
      "1.7410569191\n",
      "9.26254010201\n",
      "0.239897012711\n",
      "0.31273317337\n",
      "Review 4 of 33\n",
      "\n",
      "0.354735851288\n",
      "9.354129076\n",
      "0.265748023987\n",
      "0.31916308403\n",
      "1.42035603523\n",
      "10.8315441608\n",
      "0.735523939133\n",
      "0.578503131866\n",
      "0.693676948547\n",
      "7.50943803787\n",
      "0.352710962296\n",
      "0.342980861664\n",
      "1.46668791771\n",
      "5.90511989594\n",
      "0.319056987762\n",
      "0.313612222672\n",
      "Review 8 of 33\n",
      "\n",
      "0.6592669487\n",
      "5.63266682625\n",
      "0.276036977768\n",
      "0.256671905518\n",
      "0.528211116791\n",
      "4.584856987\n",
      "0.225298881531\n",
      "0.238942861557\n",
      "0.552925109863\n",
      "7.05968594551\n",
      "0.332903146744\n",
      "0.28605890274\n",
      "1.03310704231\n",
      "5.18860387802\n",
      "0.266998052597\n",
      "0.239639043808\n",
      "Review 12 of 33\n",
      "\n",
      "0.834041118622\n",
      "7.50169491768\n",
      "0.193987846375\n",
      "0.263561010361\n",
      "1.09483599663\n",
      "8.49080610275\n",
      "0.22155880928\n",
      "0.330150127411\n",
      "1.68242788315\n",
      "7.7941069603\n",
      "0.208788871765\n",
      "0.316426038742\n",
      "0.416291952133\n",
      "8.06660199165\n",
      "0.197158098221\n",
      "0.296669006348\n",
      "Review 16 of 33\n",
      "\n",
      "0.755106925964\n",
      "8.93793296814\n",
      "0.600372076035\n",
      "0.833534955978\n",
      "0.79233789444\n",
      "7.95226407051\n",
      "0.546429872513\n",
      "0.493972063065\n",
      "0.325896024704\n",
      "7.16856193542\n",
      "0.477825880051\n",
      "0.439838171005\n",
      "1.11599802971\n",
      "6.29571485519\n",
      "0.312236070633\n",
      "0.314493179321\n",
      "Review 20 of 33\n",
      "\n",
      "1.94952201843\n",
      "5.30968213081\n",
      "0.368964910507\n",
      "0.375640153885\n",
      "0.785202980042\n",
      "4.79327511787\n",
      "0.329118013382\n",
      "0.30588388443\n",
      "0.631713867188\n",
      "4.6356010437\n",
      "0.318578958511\n",
      "0.24152803421\n",
      "0.895048856735\n",
      "6.59443092346\n",
      "0.163467168808\n",
      "0.239860057831\n",
      "Review 24 of 33\n",
      "\n",
      "3.09714388847\n",
      "6.62759590149\n",
      "0.17006111145\n",
      "0.290781974792\n",
      "2.21812915802\n",
      "6.58287000656\n",
      "0.361886024475\n",
      "0.35689496994\n",
      "1.12074780464\n",
      "7.22348618507\n",
      "0.353237867355\n",
      "0.351586103439\n",
      "1.18457889557\n",
      "7.5023188591\n",
      "0.426394939423\n",
      "0.334240913391\n",
      "Review 28 of 33\n",
      "\n",
      "0.369579076767\n",
      "6.98576283455\n",
      "0.375415086746\n",
      "0.360445976257\n",
      "0.73940205574\n",
      "7.31580090523\n",
      "0.345856904984\n",
      "0.347598075867\n",
      "2.91692304611\n",
      "6.20147705078\n",
      "0.303822994232\n",
      "0.285761117935\n",
      "0.268045902252\n",
      "5.98839497566\n",
      "0.299963951111\n",
      "0.244870185852\n",
      "Review 32 of 33\n",
      "\n",
      "1.40888094902\n",
      "5.72494912148\n",
      "0.301513910294\n",
      "0.255808830261\n",
      "1.11089992523\n",
      "4.57677078247\n",
      "0.213597774506\n",
      "0.188228130341\n"
     ]
    }
   ],
   "source": [
    "## Cleaning of the data\n",
    "\n",
    "from bs4 import Comment, BeautifulSoup\n",
    "import re\n",
    "import time\n",
    "import requests\n",
    "import nltk\n",
    "from nltk.corpus import stopwords # Import thu\n",
    "\n",
    "import numpy as np  # a conventional alias\n",
    "from sklearn.feature_extraction.text import CountVectorizer\n",
    "\n",
    "BOA= ['https://www.sec.gov/Archives/edgar/data/70858/000007085815000008/bac-12312014x10k.htm','https://www.sec.gov/Archives/edgar/data/70858/000007085812000155/bac-12312011x10k.htm','https://www.sec.gov/Archives/edgar/data/70858/000007085813000097/bac-12312012x10k.htm','https://www.sec.gov/Archives/edgar/data/70858/000007085812000155/bac-12312011x10k.htm','https://www.sec.gov/Archives/edgar/data/70858/000095012311018743/g25571e10vk.htm','https://www.sec.gov/Archives/edgar/data/70858/000119312510041666/d10k.htm','https://www.sec.gov/Archives/edgar/data/70858/000119312509041126/d10k.htm','https://www.sec.gov/Archives/edgar/data/70858/000119312508041665/d10k.htm','https://www.sec.gov/Archives/edgar/data/70858/000119312507042036/d10k.htm','https://www.sec.gov/Archives/edgar/data/70858/000119312506056053/d10k.htm','https://www.sec.gov/Archives/edgar/data/70858/000119312505039878/d10k.htm']\n",
    "JPM=['https://www.sec.gov/Archives/edgar/data/19617/000001961715000272/corp10k2014.htm','https://www.sec.gov/Archives/edgar/data/19617/000001961714000289/corp10k2013.htm','https://www.sec.gov/Archives/edgar/data/19617/000001961713000221/corp10k2012.htm','https://www.sec.gov/Archives/edgar/data/19617/000001961712000163/corp10k2011.htm','https://www.sec.gov/Archives/edgar/data/19617/000095012311019773/y86143e10vk.htm','https://www.sec.gov/Archives/edgar/data/19617/000095012310016029/e82150e10vk.htm','https://www.sec.gov/Archives/edgar/data/19617/000095012309003840/y74757e10vk.htm','https://www.sec.gov/Archives/edgar/data/19617/000119312508043536/d10k.htm','https://www.sec.gov/Archives/edgar/data/19617/000095012307003015/y30834e10vk.htm','https://www.sec.gov/Archives/edgar/data/19617/000095012306002875/y17599e10vk.htm','https://www.sec.gov/Archives/edgar/data/19617/000095012305002539/y05475e10vk.htm']\n",
    "CITI=['https://www.sec.gov/Archives/edgar/data/831001/000083100115000043/c-12312014x10k.htm','https://www.sec.gov/Archives/edgar/data/831001/000110465914015152/a14-3681_610k.htm','https://www.sec.gov/Archives/edgar/data/831001/000120677413000852/citigroup_10k.htm','https://www.sec.gov/Archives/edgar/data/831001/000120677412000799/citigroup_10k.htm','https://www.sec.gov/Archives/edgar/data/831001/000120677411000316/citigroup_10k.htm','https://www.sec.gov/Archives/edgar/data/831001/000120677410000406/citi_10k.htm','https://www.sec.gov/Archives/edgar/data/831001/000119312509041237/d10k.htm','https://www.sec.gov/Archives/edgar/data/831001/000119312508036445/d10k.htm','https://www.sec.gov/Archives/edgar/data/831001/000119312507038505/d10k.htm','https://www.sec.gov/Archives/edgar/data/831001/000104746906002377/a2167745z10-k.htm','https://www.sec.gov/Archives/edgar/data/831001/000104746905004988/a2152655z10-k.htm']\n",
    "urls=BOA + JPM + CITI\n",
    "    \n",
    "def review_to_words(cleaned):\n",
    "\n",
    "    #\n",
    "    # 1. Remove non-letters        \n",
    "    letters_only = re.sub(\"[^a-zA-Z]\", \" \", cleaned) \n",
    "    \n",
    "    # 2. delete words of 1 or 2 characters\n",
    "    shortword = re.compile(r'\\W*\\b\\w{1,2}\\b')\n",
    "    deletesmallwords =shortword.sub('', letters_only)\n",
    "    \n",
    "    #\n",
    "    # 3. Convert to lower case, split into individual words\n",
    "    words = deletesmallwords.lower().split()                             \n",
    "    #\n",
    "    # 4. searching a set is much faster than searching\n",
    "    #   a list, so convert the stop words to a set\n",
    "    stops = set(stopwords.words(\"english\"))                  \n",
    "    # \n",
    "    # 5. Remove stop words\n",
    "    meaningful_words = [w for w in words if not w in stops]   \n",
    "    #\n",
    "    # 6. Join the words back into one string separated by space, \n",
    "    # and return the result.\n",
    "    return( \" \".join( meaningful_words ))   \n",
    "\n",
    "\n",
    "def visible(element):\n",
    "    if isinstance(element, Comment):\n",
    "        return False\n",
    "    if element.parent.name in ['style', 'script', '[document]', 'head', 'title', 'noscript']:\n",
    "        return False\n",
    "    elif re.match('<!--.*-->', element.string):\n",
    "        return False\n",
    "    return True\n",
    "\n",
    "\n",
    "\n",
    "def extract_visible_text(html):\n",
    "\n",
    "    try:\n",
    "        soup = BeautifulSoup(html, 'lxml')\n",
    "    except UnicodeEncodeError:\n",
    "        soup = BeautifulSoup(\"\")\n",
    "\n",
    "    # These two lines get rid of the comments in the html.\n",
    "    comments = soup.findAll(text=lambda text: isinstance(text, Comment))\n",
    "    [comment.extract() for comment in comments]\n",
    "\n",
    "    # as well as those spesky noscript tags:\n",
    "    noscripts = soup.findAll('noscript')\n",
    "    [noscript.extract() for noscript in noscripts]\n",
    "    # Next, the text is obtained, and filtered out for only the visible parts\n",
    "\n",
    "    texts = soup.findAll(text=True)\n",
    "    visible_texts = filter(visible, texts)\n",
    "\n",
    "    return visible_texts\n",
    "\n",
    "\n",
    "def cleanning(url):\n",
    "\n",
    "    t0 = time.time()\n",
    "    new_text = requests.get(url).text\n",
    "    print time.time()-t0\n",
    "    \n",
    "    t0 = time.time()\n",
    "    cleaned_text = extract_visible_text(new_text)\n",
    "    print time.time()-t0\n",
    "    t0 = time.time()\n",
    "    t = []\n",
    "    for line in cleaned_text:\n",
    "        t.append(' '.join(re.sub(r\"\\s\", ' ', line).split()))\n",
    "    cleaned_text = ' '.join(t)\n",
    "    print time.time()-t0\n",
    "\n",
    "    t0 = time.time()\n",
    "    cleaned_text = review_to_words(cleaned_text)\n",
    "    print time.time()-t0\n",
    "    \n",
    "    return cleaned_text\n",
    "\n",
    "\n",
    "\n",
    "num_reviews = 33\n",
    "clean_annuals = []\n",
    "for i in xrange( 0, num_reviews ):\n",
    "    # If the index is evenly divisible by 4, print a message\n",
    "    if( (i+1)%4 == 0 ):\n",
    "        print \"Review %d of %d\\n\" % ( i+1, num_reviews )                                                                    \n",
    "    clean_annuals.append(cleanning(urls[i]))"
   ]
  },
  {
   "cell_type": "code",
   "execution_count": 2,
   "metadata": {
    "collapsed": true
   },
   "outputs": [],
   "source": [
    "vectorizer = CountVectorizer(input='content')\n",
    "dtm = vectorizer.fit_transform(clean_annuals)  # a sparse matrix\n",
    "vocab = vectorizer.get_feature_names()\n",
    "dtm = dtm.toarray()  # convert to a regular array\n",
    "vocab = np.array(vocab)"
   ]
  },
  {
   "cell_type": "code",
   "execution_count": 3,
   "metadata": {
    "collapsed": false
   },
   "outputs": [
    {
     "data": {
      "text/plain": [
       "array([u'aaa', u'aadvantage', u'aal', ..., u'zubrow', u'zuni', u'zurich'], \n",
       "      dtype='<U22')"
      ]
     },
     "execution_count": 3,
     "metadata": {},
     "output_type": "execute_result"
    }
   ],
   "source": [
    "vocab"
   ]
  },
  {
   "cell_type": "code",
   "execution_count": 5,
   "metadata": {
    "collapsed": false
   },
   "outputs": [
    {
     "data": {
      "text/plain": [
       "(33, 10845)"
      ]
     },
     "execution_count": 5,
     "metadata": {},
     "output_type": "execute_result"
    }
   ],
   "source": [
    "dtm.shape"
   ]
  },
  {
   "cell_type": "code",
   "execution_count": 6,
   "metadata": {
    "collapsed": false
   },
   "outputs": [
    {
     "data": {
      "text/plain": [
       "array([[ 0.  ,  0.02,  0.01, ...,  0.21,  0.21,  0.2 ],\n",
       "       [ 0.02, -0.  ,  0.01, ...,  0.22,  0.22,  0.2 ],\n",
       "       [ 0.01,  0.01,  0.  , ...,  0.22,  0.22,  0.2 ],\n",
       "       ..., \n",
       "       [ 0.21,  0.22,  0.22, ...,  0.  ,  0.01,  0.04],\n",
       "       [ 0.21,  0.22,  0.22, ...,  0.01,  0.  ,  0.03],\n",
       "       [ 0.2 ,  0.2 ,  0.2 , ...,  0.04,  0.03, -0.  ]])"
      ]
     },
     "execution_count": 6,
     "metadata": {},
     "output_type": "execute_result"
    }
   ],
   "source": [
    "from sklearn.metrics.pairwise import cosine_similarity\n",
    "#change range in dtm to select one particular company\n",
    "dist = 1 - cosine_similarity(dtm)\n",
    "np.round(dist, 2)"
   ]
  },
  {
   "cell_type": "code",
   "execution_count": 7,
   "metadata": {
    "collapsed": true
   },
   "outputs": [],
   "source": [
    "%matplotlib inline\n",
    "import os  # for os.path.basename\n",
    "\n",
    "import matplotlib.pyplot as plt\n",
    "\n",
    "from sklearn.manifold import MDS\n",
    "\n",
    "# two components as we're plotting points in a two-dimensional plane\n",
    "# \"precomputed\" because we provide a distance matrix\n",
    "# we will also specify `random_state` so the plot is reproducible.\n",
    "mds = MDS(n_components=2, dissimilarity=\"precomputed\", random_state=1)\n",
    "\n",
    "pos = mds.fit_transform(dist)  # shape (n_components, n_samples)"
   ]
  },
  {
   "cell_type": "code",
   "execution_count": 181,
   "metadata": {
    "collapsed": false
   },
   "outputs": [
    {
     "data": {
      "image/png": "[encoded data removed]",
      "text/plain": [
       "<matplotlib.figure.Figure at 0x117f727d0>"
      ]
     },
     "metadata": {},
     "output_type": "display_data"
    }
   ],
   "source": [
    "xs, ys = pos[:, 0], pos[:, 1]\n",
    "\n",
    "# short versions of filenames:\n",
    "#names=['BOA-2014','BOA-2013','BOA-2012','BOA-2011','BOA-2010','BOA-2009','BOA-2008','BOA-2007','BOA-2006','BOA-2005','BOA-2004', 'JPM-2014','JPM-2013','JPM-2012','JPM-2011','JPM-2010','JPM-2009','JPM-2008','JPM-2007','JPM-2006','JPM-2005','JPM-2004','CITI-2014','CITI-2013','CITI-2012','CITI-2011','CITI-2010','CITI-2009','CITI-2008','CITI-2007','CITI-2006','CITI-2005','CITI-2004']\n",
    "names=['BOA','BOA','BOA','BOA','BOA','BOA','BOA','BOA','BOA','BOA','BOA', 'JPM','JPM','JPM','JPM','JPM','JPM','JPM','JPM','JPM','JPM','JPM','CITI','CITI','CITI','CITI','CITI','CITI','CITI','CITI','CITI','CITI','CITI']\n",
    "#names=[ '2014','2013','2012','2011','2010','2009','2008','2007','2006','2005','2004']\n",
    "# color-blind-friendly palette\n",
    "for x, y, name in zip(xs, ys, names):\n",
    "     color = 'orange' if \"CITI\" in name  else 'skyblue'\n",
    "     plt.scatter(x, y, c=color)\n",
    "     plt.text(x, y, name)"
   ]
  },
  {
   "cell_type": "markdown",
   "metadata": {},
   "source": [
    "# Topic Model preparation and calculation"
   ]
  },
  {
   "cell_type": "code",
   "execution_count": 9,
   "metadata": {
    "collapsed": false
   },
   "outputs": [
    {
     "data": {
      "text/plain": [
       "3049"
      ]
     },
     "execution_count": 9,
     "metadata": {},
     "output_type": "execute_result"
    }
   ],
   "source": [
    "def split_text(filename, n_words):\n",
    "     \"\"\"Split a text into chunks approximately `n_words` words in length.\"\"\"\n",
    "     # input = open(filename, 'r')\n",
    "     # words = input.read().split(' ')\n",
    "     words =filename.split(' ')   \n",
    "     # input.close()\n",
    "     chunks = []\n",
    "     current_chunk_words = []\n",
    "     current_chunk_word_count = 0\n",
    "     for word in words:\n",
    "         current_chunk_words.append(word)\n",
    "         current_chunk_word_count += 1\n",
    "         if current_chunk_word_count == n_words:\n",
    "            chunks.append(' '.join(current_chunk_words))\n",
    "            current_chunk_words = []\n",
    "            current_chunk_word_count = 0\n",
    "     chunks.append(' '.join(current_chunk_words) )\n",
    "     return chunks\n",
    "    \n",
    "chunk_length = 1000\n",
    "chunks = []\n",
    "num_reviews = 33\n",
    "chunks = []\n",
    "\n",
    "for i in xrange( 0, num_reviews ):\n",
    "     chunk_counter = 0\n",
    "     texts = split_text(clean_annuals[i], chunk_length)\n",
    "     for text in texts:\n",
    "         chunk = {'text': text, 'number': chunk_counter, 'filename': i}\n",
    "         chunks.append(chunk)\n",
    "         chunk_counter += 1\n",
    "\n",
    "\n",
    "# we started with 33 files\n",
    "# and now we have:\n",
    "len(chunks)"
   ]
  },
  {
   "cell_type": "code",
   "execution_count": 10,
   "metadata": {
    "collapsed": true
   },
   "outputs": [],
   "source": [
    "from sklearn.feature_extraction.text import CountVectorizer\n",
    "# Now we create the sparse matrix\n",
    "vectorizer44 = CountVectorizer(input='content',ngram_range=(1, 1),min_df=30, max_df=0.70)\n",
    "# max_df at 70% just eliminates 33 frequent words\n",
    "# i choose min_df=30 because it is just 1% of 3049 chunks, \n",
    "# deletes 65% of unfrequent words or 7000 words.\n",
    "dtm44 = vectorizer44.fit_transform([c['text'] for c in chunks])\n",
    "vocab44 = np.array(vectorizer44.get_feature_names())\n",
    "dtm44 = dtm44.toarray()  # convert to a regular array\n",
    "vocab44 = np.array(vocab44)"
   ]
  },
  {
   "cell_type": "code",
   "execution_count": 11,
   "metadata": {
    "collapsed": false
   },
   "outputs": [
    {
     "data": {
      "text/plain": [
       "(3848,)"
      ]
     },
     "execution_count": 11,
     "metadata": {},
     "output_type": "execute_result"
    }
   ],
   "source": [
    "vocab44.shape"
   ]
  },
  {
   "cell_type": "code",
   "execution_count": 12,
   "metadata": {
    "collapsed": false
   },
   "outputs": [
    {
     "data": {
      "text/plain": [
       "(3049, 3848)"
      ]
     },
     "execution_count": 12,
     "metadata": {},
     "output_type": "execute_result"
    }
   ],
   "source": [
    "dtm44.shape"
   ]
  },
  {
   "cell_type": "code",
   "execution_count": 13,
   "metadata": {
    "collapsed": false
   },
   "outputs": [
    {
     "name": "stdout",
     "output_type": "stream",
     "text": [
      "Fitting LDA models with tf \n",
      "done in 301.228s.\n",
      "\n",
      "Topics in LDA model:\n",
      "Topic #0:\n",
      "tax accounting sfas fair company goodwill earnings reporting impairment statements taxes deferred fasb changes january effective guidance liabilities recorded intangible statement recognized entity adoption impact acquisition operations method issued effect\n",
      "Topic #1:\n",
      "firm chase jpmorgan report annual note internal statements pages reporting control accounting see sheets ended discussion results used private page respectively includes provide upon activities periods repurchase material operations heritage\n",
      "Topic #2:\n",
      "mortgage repurchase servicing securitization claims representations warranties corporation securitizations loss settlement gses mortgages assumptions private foreclosure liability msrs label investors adverse residential estimated future possible home whole unit principal first\n",
      "Topic #3:\n",
      "court district claims actions filed action corporation defendants class plaintiffs bank new litigation york complaint citigroup state damages states pending motion federal proceedings matters inc united dismiss settlement southern alleged\n",
      "Topic #4:\n",
      "plans stock plan benefit pension million awards options expense rate compensation years year postretirement shares benefits employee expected employees cost defined corporation common average date asset granted return weighted tax\n",
      "Topic #5:\n",
      "bank subsidiaries federal act banking capital company holding companies fdic banks subject reserve activities services requirements regulatory institutions institution regulation exchange depository required subsidiary new state global operations rule linked\n",
      "Topic #6:\n",
      "capital corporation bank america stock modifications home mortgage new term fair regulatory liquidity exchange portfolio fsp consumer requirements subsidiaries tdrs could required funding debt federal tier company note programs agencies\n",
      "Topic #7:\n",
      "average rate trading var rates basis deposits liabilities portfolio changes common revenue change impact measures model used shareholders term bearing activities stress testing results expense positions year goodwill reported loss\n",
      "Topic #8:\n",
      "could risks businesses operational regulatory significant operations affect economic results result ability adversely services impact subject control policies factors markets compliance changes conditions addition board well future legal products potential\n",
      "Topic #9:\n",
      "commercial percent consumer portfolio million leases allowance real nonperforming estate lease charge offs home fair mortgage residential corporation card outstanding includes america dollars commitments accounted unfunded properties option countrywide millions\n",
      "Topic #10:\n",
      "commitments amount company guarantees agreements transactions collateral corporation obligations respectively lending million derivative party future contracts letters loss maximum amounts protection payments sold sheet investment third event contract contractual instruments\n",
      "Topic #11:\n",
      "exposure liquidity funding ratings derivative collateral derivatives exposures rating portfolio debt counterparty term country protection default commitments markets long cross border receivables industry additional purchased grade amount notional senior counterparties\n",
      "Topic #12:\n",
      "million increased banking revenue higher services expense investment offset primarily increase lower driven partially compared global growth impact noninterest results card average deposits tax provision products decreased consumer portfolio corporate\n",
      "Topic #13:\n",
      "year revenue prior expense ended annual charge report allowance million pages fees provision card respectively chase mutual end washington noninterest millions selected average results offs compared mortgage discussion jpmorgan period\n",
      "Topic #14:\n",
      "citigroup citi company operations year approximately loss dollars million consumer revenues corporate sale cards foreign change quarter holdings taxes north discontinued america offices continuing citibank reserve statements first citicorp banking\n",
      "Topic #15:\n",
      "incorporated reference exhibit form stock registrant dated company bank report file plan january filed corporation york executive new amendment officer february agreement thereto exchange effective pursuant indenture inc amended october\n",
      "Topic #16:\n",
      "allowance consumer portfolio mortgage card impaired past home days principal real estate rate modified current loss pci residential estimated payment borrower expected collateral modification tdrs recorded delinquency fair rates default\n",
      "Topic #17:\n",
      "capital tier basel common regulatory ratio bank iii requirements rules banking preferred weighted ratios stock federal leverage reserve minimum trust january qualifying final required well guidelines percent tax amount issued\n",
      "Topic #18:\n",
      "stock corporation preferred debt trust company term issued common notes shares rate interests vies trusts million commercial paper activities vie long share liabilities series conduits funds note held per entities\n",
      "Topic #19:\n",
      "fair debt trading liabilities derivative level instruments derivatives rate mortgage changes foreign gains valuation hedges investments contracts hedge account recorded exchange backed unrealized sale available corporation held agreements rates cost\n",
      "\n"
     ]
    }
   ],
   "source": [
    "#Find 20 topics using LDA\n",
    "\n",
    "from __future__ import print_function\n",
    "from time import time\n",
    "\n",
    "#In LDA, the time complexity is proportional to (n_samples * iterations).\n",
    "#import sklearn\n",
    "from sklearn.feature_extraction.text import TfidfVectorizer, CountVectorizer\n",
    "from sklearn.decomposition import LatentDirichletAllocation\n",
    "\n",
    "def print_top_words(model, feature_names, n_top_words):\n",
    "    for topic_idx, topic in enumerate(model.components_):\n",
    "        print(\"Topic #%d:\" % topic_idx)\n",
    "        print(\" \".join([feature_names[i]\n",
    "                        for i in topic.argsort()[:-n_top_words - 1:-1]]))\n",
    "    print()\n",
    "\n",
    "n_topics=20\n",
    "max_iter=100\n",
    "n_top_words=30\n",
    "print(\"Fitting LDA models with tf \")\n",
    "lda = LatentDirichletAllocation(n_topics=n_topics, max_iter=max_iter,\n",
    "                                learning_method='online', learning_offset=50.,\n",
    "                                random_state=0)\n",
    "t0 = time()\n",
    "word_topic=lda.fit(dtm44)\n",
    "print(\"done in %0.3fs.\" % (time() - t0))\n",
    "\n",
    "print(\"\\nTopics in LDA model:\")\n",
    "#tf_feature_names = tf_vectorizer.get_feature_names()\n",
    "print_top_words(lda, vocab44, n_top_words)"
   ]
  },
  {
   "cell_type": "code",
   "execution_count": 14,
   "metadata": {
    "collapsed": false
   },
   "outputs": [
    {
     "data": {
      "text/plain": [
       "(3049, 21)"
      ]
     },
     "execution_count": 14,
     "metadata": {},
     "output_type": "execute_result"
    }
   ],
   "source": [
    "# Find Average topics per document (transform chunks to 33 docs)\n",
    "\n",
    "doc_topic= lda.transform(dtm44)\n",
    "doc_topic.shape\n",
    "\n",
    "lista=()\n",
    "num_chunks = 3049\n",
    "for j in xrange(0,33):\n",
    "    for i in xrange(0, num_chunks ):\n",
    "        if chunks[i]['filename']==j:\n",
    "            lista = lista + (j,)\n",
    "            \n",
    "lista=np.asarray(lista)[...,None]\n",
    "all_data = np.append(doc_topic, lista, 1)\n",
    "all_data.shape"
   ]
  },
  {
   "cell_type": "code",
   "execution_count": null,
   "metadata": {
    "collapsed": true
   },
   "outputs": [],
   "source": [
    "#Find average\n",
    "results=[]\n",
    "for x in sorted(np.unique(all_data[...,20])):\n",
    "    results.append([np.average(all_data[np.where(all_data[...,20]==x)][...,0]), \n",
    "                    np.average(all_data[np.where(all_data[...,20]==x)][...,1]),\n",
    "                    np.average(all_data[np.where(all_data[...,20]==x)][...,2]),\n",
    "                    np.average(all_data[np.where(all_data[...,20]==x)][...,3]),\n",
    "                    np.average(all_data[np.where(all_data[...,20]==x)][...,4]),\n",
    "                    np.average(all_data[np.where(all_data[...,20]==x)][...,5]),\n",
    "                    np.average(all_data[np.where(all_data[...,20]==x)][...,6]),\n",
    "                    np.average(all_data[np.where(all_data[...,20]==x)][...,7]),\n",
    "                    np.average(all_data[np.where(all_data[...,20]==x)][...,8]),\n",
    "                    np.average(all_data[np.where(all_data[...,20]==x)][...,9]),\n",
    "                    np.average(all_data[np.where(all_data[...,20]==x)][...,10]),\n",
    "                    np.average(all_data[np.where(all_data[...,20]==x)][...,11]),\n",
    "                    np.average(all_data[np.where(all_data[...,20]==x)][...,12]),\n",
    "                    np.average(all_data[np.where(all_data[...,20]==x)][...,13]),\n",
    "                    np.average(all_data[np.where(all_data[...,20]==x)][...,14]),\n",
    "                    np.average(all_data[np.where(all_data[...,20]==x)][...,15]),\n",
    "                    np.average(all_data[np.where(all_data[...,20]==x)][...,16]),\n",
    "                    np.average(all_data[np.where(all_data[...,20]==x)][...,17]),\n",
    "                    np.average(all_data[np.where(all_data[...,20]==x)][...,18]),\n",
    "                    np.average(all_data[np.where(all_data[...,20]==x)][...,19]),x])\n",
    "\n",
    "results=np.asarray(results)\n",
    "results.shape"
   ]
  },
  {
   "cell_type": "code",
   "execution_count": 15,
   "metadata": {
    "collapsed": false
   },
   "outputs": [
    {
     "data": {
      "text/plain": [
       "(33, 21)"
      ]
     },
     "execution_count": 15,
     "metadata": {},
     "output_type": "execute_result"
    }
   ],
   "source": [
    "# Normalize results\n",
    "results2 = np.round(results[:,0:20] / np.sum(results[:,0:20], axis=1, keepdims=True), decimals=4)   \n"
   ]
  },
  {
   "cell_type": "markdown",
   "metadata": {},
   "source": [
    "# Grap evolution of share of topics per year"
   ]
  },
  {
   "cell_type": "code",
   "execution_count": 207,
   "metadata": {
    "collapsed": false
   },
   "outputs": [
    {
     "data": {
      "image/png": "[encoded data removed]",
      "text/plain": [
       "<matplotlib.figure.Figure at 0x1198ee290>"
      ]
     },
     "metadata": {},
     "output_type": "display_data"
    }
   ],
   "source": [
    "\n",
    "import matplotlib.pyplot as plt\n",
    "import numpy as np\n",
    "\n",
    "# Change numbertop variable to do the graph for an specific topic\n",
    "numbertop=19\n",
    "doctopic = results2[(10,9,8,7,6,5,4,3,2,1,0),numbertop]\n",
    "doctopic2 = results2[(21,20,19,18,17,16,15,14,13,12,11),numbertop]\n",
    "doctopic3 = results2[(32,31,30,29,28,27,26,25,24,23,22),numbertop]\n",
    "docnames=[2004,2005, 2006, 2007, 2008, 2009, 2010, 2011, 2012, 2013, 2014] \n",
    "plt.xlabel('Year')\n",
    "plt.ylabel('Share')\n",
    "plt.title('Share of Topic #%d' % numbertop)\n",
    "topic_labels=['Bank of America', 'J.P. Morgan', 'Citigroup']\n",
    "\n",
    "l2=plt.plot(docnames, doctopic, 'c-', docnames, doctopic2, 'm-', docnames, doctopic3, 'b-')\n",
    "plt.legend(l2, topic_labels, loc='upper left', shadow=False,  prop={'size':10},frameon=False)\n",
    "plt.ylim((0))\n",
    "plt.show()\n"
   ]
  },
  {
   "cell_type": "markdown",
   "metadata": {},
   "source": [
    "# Graph distance between documents using topic share"
   ]
  },
  {
   "cell_type": "code",
   "execution_count": 208,
   "metadata": {
    "collapsed": false
   },
   "outputs": [
    {
     "data": {
      "text/plain": [
       "array([[ 0.  ,  0.03,  0.02, ...,  0.38,  0.39,  0.39],\n",
       "       [ 0.03,  0.  ,  0.01, ...,  0.39,  0.39,  0.39],\n",
       "       [ 0.02,  0.01, -0.  , ...,  0.4 ,  0.4 ,  0.4 ],\n",
       "       ..., \n",
       "       [ 0.38,  0.39,  0.4 , ...,  0.  ,  0.01,  0.02],\n",
       "       [ 0.39,  0.39,  0.4 , ...,  0.01,  0.  ,  0.02],\n",
       "       [ 0.39,  0.39,  0.4 , ...,  0.02,  0.02,  0.  ]])"
      ]
     },
     "execution_count": 208,
     "metadata": {},
     "output_type": "execute_result"
    }
   ],
   "source": [
    "from sklearn.metrics.pairwise import cosine_similarity\n",
    "#change range in dtm to select one particular company\n",
    "\n",
    "#dist2 = 1 - cosine_similarity(results2[:,(0,2,3,4,5,7,8,10,11,12,15,16,17,18,19)])\n",
    "dist2 = 1 - cosine_similarity(results2)\n",
    "np.round(dist2, 2)"
   ]
  },
  {
   "cell_type": "code",
   "execution_count": 209,
   "metadata": {
    "collapsed": true
   },
   "outputs": [],
   "source": [
    "%matplotlib inline\n",
    "import os  # for os.path.basename\n",
    "\n",
    "import matplotlib.pyplot as plt\n",
    "\n",
    "from sklearn.manifold import MDS\n",
    "\n",
    "# two components as we're plotting points in a two-dimensional plane\n",
    "# \"precomputed\" because we provide a distance matrix\n",
    "# we will also specify `random_state` so the plot is reproducible.\n",
    "mds = MDS(n_components=2, dissimilarity=\"precomputed\", random_state=1)\n",
    "\n",
    "pos = mds.fit_transform(dist2)  # shape (n_components, n_samples)"
   ]
  },
  {
   "cell_type": "code",
   "execution_count": 210,
   "metadata": {
    "collapsed": false
   },
   "outputs": [
    {
     "data": {
      "image/png": "[encoded data removed]",
      "text/plain": [
       "<matplotlib.figure.Figure at 0x114dfa410>"
      ]
     },
     "metadata": {},
     "output_type": "display_data"
    }
   ],
   "source": [
    "xs, ys = pos[:, 0], pos[:, 1]\n",
    "\n",
    "# short versions of filenames:\n",
    "#names=['BOA-2014','BOA-2013','BOA-2012','BOA-2011','BOA-2010','BOA-2009','BOA-2008','BOA-2007','BOA-2006','BOA-2005','BOA-2004', 'JPM-2014','JPM-2013','JPM-2012','JPM-2011','JPM-2010','JPM-2009','JPM-2008','JPM-2007','JPM-2006','JPM-2005','JPM-2004','CITI-2014','CITI-2013','CITI-2012','CITI-2011','CITI-2010','CITI-2009','CITI-2008','CITI-2007','CITI-2006','CITI-2005','CITI-2004']\n",
    "names=['BOA','BOA','BOA','BOA','BOA','BOA','BOA','BOA','BOA','BOA','BOA', 'JPM','JPM','JPM','JPM','JPM','JPM','JPM','JPM','JPM','JPM','JPM','CITI','CITI','CITI','CITI','CITI','CITI','CITI','CITI','CITI','CITI','CITI']\n",
    "#names=[ '2014','2013','2012','2011','2010','2009','2008','2007','2006','2005','2004','2014','2013','2012','2011','2010','2009','2008','2007','2006','2005','2004','2014','2013','2012','2011','2010','2009','2008','2007','2006','2005','2004']\n",
    "# color-blind-friendly palette\n",
    "for x, y, name in zip(xs, ys, names):\n",
    "     color = 'orange' if \"CITI\" in name  else 'skyblue'\n",
    "     plt.scatter(x, y, c=color)\n",
    "     plt.text(x, y, name)"
   ]
  },
  {
   "cell_type": "code",
   "execution_count": null,
   "metadata": {
    "collapsed": true
   },
   "outputs": [],
   "source": []
  }
 ],
 "metadata": {
  "kernelspec": {
   "display_name": "Python 2",
   "language": "python",
   "name": "python2"
  },
  "language_info": {
   "codemirror_mode": {
    "name": "ipython",
    "version": 2
   },
   "file_extension": ".py",
   "mimetype": "text/x-python",
   "name": "python",
   "nbconvert_exporter": "python",
   "pygments_lexer": "ipython2",
   "version": "2.7.10"
  }
 },
 "nbformat": 4,
 "nbformat_minor": 0
}
